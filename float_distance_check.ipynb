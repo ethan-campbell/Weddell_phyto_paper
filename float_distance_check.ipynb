{
 "cells": [
  {
   "cell_type": "code",
   "execution_count": 2,
   "metadata": {
    "pycharm": {
     "is_executing": false,
     "name": "#%%\n"
    }
   },
   "outputs": [],
   "source": [
    "from numpy import *\n",
    "import xarray as xr\n",
    "from datetime import datetime\n",
    "\n",
    "import sys\n",
    "sys.path.append('/dat1/ethancc/Git/Toolbox')\n",
    "import geo_tools as gt\n",
    "\n",
    "processed_argo_dir = '/dat1/ethancc/Data/Processed/2020_02_11_Argo/'\n",
    "\n",
    "wmoids = [5904468,5904471,5904467,5904397]\n",
    "drift_distances = []"
   ]
  },
  {
   "cell_type": "code",
   "execution_count": 3,
   "metadata": {},
   "outputs": [
    {
     "name": "stdout",
     "output_type": "stream",
     "text": [
      "5904468\n",
      "2014 127.47581688682466\n",
      "2015 155.09514614887513\n",
      "2016 116.75865557549089\n",
      "2017 59.02834971426825\n",
      "2018 18.209170548845645\n",
      "5904471\n",
      "2014 83.33422397510714\n",
      "2015 140.7964277007678\n",
      "2016 79.38302615664146\n",
      "2017 128.70594943336485\n",
      "2018 260.78036517078317\n",
      "5904467\n",
      "2014 145.1787484197128\n",
      "2015 323.66958600569154\n",
      "2016 200.3123783584867\n",
      "2017 195.52331291872898\n",
      "2018 228.59491080439733\n",
      "5904397\n",
      "2014 47.04017722356419\n",
      "2015 381.0418382693578\n",
      "2016 253.852381741484\n",
      "2017 430.96196817046945\n",
      "2018 204.9448418047864\n"
     ]
    }
   ],
   "source": [
    "for wmoid in wmoids:\n",
    "    print(wmoid)\n",
    "    float_data = xr.open_dataset(processed_argo_dir + '{0}.nc'.format(wmoid))\n",
    "    for year in range(2014,2018+1):\n",
    "        drift_distance \\\n",
    "            = gt.distance_between_two_coors(float_data['lat'].sel(time=datetime(year,10,1),\n",
    "                                                                  method='nearest'),\n",
    "                                            float_data['lon'].sel(time=datetime(year,10,1),\n",
    "                                                                  method='nearest'),\n",
    "                                            float_data['lat'].sel(time=datetime(year+1,5,31),\n",
    "                                                                  method='nearest'),\n",
    "                                            float_data['lon'].sel(time=datetime(year+1,5,31),\n",
    "                                                                  method='nearest'))/1000\n",
    "        print(year,drift_distance)\n",
    "        drift_distances.append(drift_distance)"
   ]
  },
  {
   "cell_type": "code",
   "execution_count": 4,
   "metadata": {},
   "outputs": [
    {
     "name": "stdout",
     "output_type": "stream",
     "text": [
      "Mean drift distance during bloom cycle: 179.03 km\n",
      "Median drift distance during bloom cycle: 150.14 km\n",
      "Min drift distance during bloom cycle: 18.21 km\n",
      "Max drift distance during bloom cycle: 430.96 km\n"
     ]
    }
   ],
   "source": [
    "print('Mean drift distance during bloom cycle: {0:.02f} km'.format(mean(drift_distances)))\n",
    "print('Median drift distance during bloom cycle: {0:.02f} km'.format(median(drift_distances)))\n",
    "print('Min drift distance during bloom cycle: {0:.02f} km'.format(min(drift_distances)))\n",
    "print('Max drift distance during bloom cycle: {0:.02f} km'.format(max(drift_distances)))"
   ]
  },
  {
   "cell_type": "code",
   "execution_count": 6,
   "metadata": {},
   "outputs": [
    {
     "name": "stdout",
     "output_type": "stream",
     "text": [
      "Distance of float WG1 (5904467) from Maud Rise on 2017-11-01: 794.09 km\n",
      "Distance of float WG2 (5904397) from Maud Rise on 2017-11-01: 385.16 km\n"
     ]
    }
   ],
   "source": [
    "mr_loc = (-65,2.5)\n",
    "\n",
    "# float locations during start of bloom around November 1, 2017\n",
    "float_data = xr.open_dataset(processed_argo_dir + '{0}.nc'.format(5904467))\n",
    "wg1_loc = (float_data['lat'].sel(time=datetime(2017,11,1),method='nearest'),\n",
    "           float_data['lon'].sel(time=datetime(2017,11,1),method='nearest'))\n",
    "wg1_dist = gt.distance_between_two_coors(*mr_loc,*wg1_loc)/1000\n",
    "float_data = xr.open_dataset(processed_argo_dir + '{0}.nc'.format(5904397))\n",
    "wg2_loc = (float_data['lat'].sel(time=datetime(2017,11,1),method='nearest'),\n",
    "           float_data['lon'].sel(time=datetime(2017,11,1),method='nearest'))\n",
    "wg2_dist = gt.distance_between_two_coors(*mr_loc,*wg2_loc)/1000\n",
    "\n",
    "print('Distance of float WG1 (5904467) from Maud Rise on 2017-11-01: {0:.02f} km'.format(wg1_dist))\n",
    "print('Distance of float WG2 (5904397) from Maud Rise on 2017-11-01: {0:.02f} km'.format(wg2_dist))"
   ]
  }
 ],
 "metadata": {
  "kernelspec": {
   "display_name": "global_minimal",
   "language": "python",
   "name": "global_minimal"
  },
  "language_info": {
   "codemirror_mode": {
    "name": "ipython",
    "version": 3
   },
   "file_extension": ".py",
   "mimetype": "text/x-python",
   "name": "python",
   "nbconvert_exporter": "python",
   "pygments_lexer": "ipython3",
   "version": "3.6.10"
  },
  "pycharm": {
   "stem_cell": {
    "cell_type": "raw",
    "metadata": {
     "collapsed": false
    },
    "source": []
   }
  }
 },
 "nbformat": 4,
 "nbformat_minor": 1
}
